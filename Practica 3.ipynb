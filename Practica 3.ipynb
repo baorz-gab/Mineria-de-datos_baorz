{
 "cells": [
  {
   "cell_type": "markdown",
   "metadata": {},
   "source": [
    "# Práctica 3: extracción de caracteristicas"
   ]
  },
  {
   "cell_type": "code",
   "execution_count": 1,
   "metadata": {},
   "outputs": [],
   "source": [
    "import pandas as pd\n",
    "import matplotlib.pyplot as plt\n",
    "import numpy as np\n",
    "from sklearn.decomposition import PCA, KernelPCA\n",
    "from sklearn.datasets import make_circles"
   ]
  },
  {
   "cell_type": "markdown",
   "metadata": {},
   "source": [
    "## Datos del porcentaje de defunciones por suicidio según sexo"
   ]
  },
  {
   "cell_type": "markdown",
   "metadata": {},
   "source": [
    "### Analisis de componentes principales"
   ]
  },
  {
   "cell_type": "code",
   "execution_count": 31,
   "metadata": {},
   "outputs": [
    {
     "data": {
      "text/html": [
       "<div>\n",
       "<style scoped>\n",
       "    .dataframe tbody tr th:only-of-type {\n",
       "        vertical-align: middle;\n",
       "    }\n",
       "\n",
       "    .dataframe tbody tr th {\n",
       "        vertical-align: top;\n",
       "    }\n",
       "\n",
       "    .dataframe thead th {\n",
       "        text-align: right;\n",
       "    }\n",
       "</style>\n",
       "<table border=\"1\" class=\"dataframe\">\n",
       "  <thead>\n",
       "    <tr style=\"text-align: right;\">\n",
       "      <th></th>\n",
       "      <th>Entidad Federativa</th>\n",
       "      <th>Sexo</th>\n",
       "      <th>2010</th>\n",
       "      <th>2011</th>\n",
       "      <th>2012</th>\n",
       "      <th>2013</th>\n",
       "      <th>2014</th>\n",
       "      <th>2015</th>\n",
       "      <th>2016</th>\n",
       "      <th>2017</th>\n",
       "      <th>2018</th>\n",
       "    </tr>\n",
       "  </thead>\n",
       "  <tbody>\n",
       "    <tr>\n",
       "      <td>0</td>\n",
       "      <td>Aguascalientes</td>\n",
       "      <td>Hombres</td>\n",
       "      <td>9.5</td>\n",
       "      <td>17.5</td>\n",
       "      <td>22.2</td>\n",
       "      <td>22.3</td>\n",
       "      <td>19.7</td>\n",
       "      <td>23.9</td>\n",
       "      <td>22.7</td>\n",
       "      <td>23.4</td>\n",
       "      <td>22.2</td>\n",
       "    </tr>\n",
       "    <tr>\n",
       "      <td>1</td>\n",
       "      <td>Aguascalientes</td>\n",
       "      <td>Mujeres</td>\n",
       "      <td>6.7</td>\n",
       "      <td>11.9</td>\n",
       "      <td>13.4</td>\n",
       "      <td>13.7</td>\n",
       "      <td>16.8</td>\n",
       "      <td>14.0</td>\n",
       "      <td>14.7</td>\n",
       "      <td>16.8</td>\n",
       "      <td>14.0</td>\n",
       "    </tr>\n",
       "    <tr>\n",
       "      <td>2</td>\n",
       "      <td>Baja California</td>\n",
       "      <td>Hombres</td>\n",
       "      <td>3.7</td>\n",
       "      <td>7.7</td>\n",
       "      <td>6.1</td>\n",
       "      <td>5.7</td>\n",
       "      <td>8.9</td>\n",
       "      <td>6.9</td>\n",
       "      <td>6.5</td>\n",
       "      <td>5.6</td>\n",
       "      <td>5.2</td>\n",
       "    </tr>\n",
       "    <tr>\n",
       "      <td>3</td>\n",
       "      <td>Baja California</td>\n",
       "      <td>Mujeres</td>\n",
       "      <td>3.5</td>\n",
       "      <td>4.0</td>\n",
       "      <td>4.0</td>\n",
       "      <td>5.5</td>\n",
       "      <td>7.0</td>\n",
       "      <td>4.5</td>\n",
       "      <td>6.1</td>\n",
       "      <td>3.8</td>\n",
       "      <td>5.6</td>\n",
       "    </tr>\n",
       "    <tr>\n",
       "      <td>4</td>\n",
       "      <td>Baja California Sur</td>\n",
       "      <td>Hombres</td>\n",
       "      <td>16.5</td>\n",
       "      <td>9.6</td>\n",
       "      <td>14.2</td>\n",
       "      <td>15.4</td>\n",
       "      <td>17.4</td>\n",
       "      <td>12.7</td>\n",
       "      <td>11.3</td>\n",
       "      <td>5.0</td>\n",
       "      <td>12.4</td>\n",
       "    </tr>\n",
       "  </tbody>\n",
       "</table>\n",
       "</div>"
      ],
      "text/plain": [
       "    Entidad Federativa     Sexo  2010  2011  2012  2013  2014  2015  2016  \\\n",
       "0       Aguascalientes  Hombres   9.5  17.5  22.2  22.3  19.7  23.9  22.7   \n",
       "1       Aguascalientes  Mujeres   6.7  11.9  13.4  13.7  16.8  14.0  14.7   \n",
       "2      Baja California  Hombres   3.7   7.7   6.1   5.7   8.9   6.9   6.5   \n",
       "3      Baja California  Mujeres   3.5   4.0   4.0   5.5   7.0   4.5   6.1   \n",
       "4  Baja California Sur  Hombres  16.5   9.6  14.2  15.4  17.4  12.7  11.3   \n",
       "\n",
       "   2017  2018  \n",
       "0  23.4  22.2  \n",
       "1  16.8  14.0  \n",
       "2   5.6   5.2  \n",
       "3   3.8   5.6  \n",
       "4   5.0  12.4  "
      ]
     },
     "execution_count": 31,
     "metadata": {},
     "output_type": "execute_result"
    }
   ],
   "source": [
    "path = 'Porcentaje de defunciones por suicidio segun sexo.csv'\n",
    "all_var = ['Entidad Federativa','Sexo','2010','2011','2012','2013','2014','2015','2016','2017','2018']\n",
    "carac = ['2010','2011','2012','2013','2014','2015','2016','2017','2018']\n",
    "obj = ['Sexo']\n",
    "df = pd.read_csv(path, names=all_var)\n",
    "df.head()"
   ]
  },
  {
   "cell_type": "markdown",
   "metadata": {},
   "source": [
    "Antes de hacer el PCA debemos escalar los datos."
   ]
  },
  {
   "cell_type": "code",
   "execution_count": 14,
   "metadata": {},
   "outputs": [
    {
     "data": {
      "text/html": [
       "<div>\n",
       "<style scoped>\n",
       "    .dataframe tbody tr th:only-of-type {\n",
       "        vertical-align: middle;\n",
       "    }\n",
       "\n",
       "    .dataframe tbody tr th {\n",
       "        vertical-align: top;\n",
       "    }\n",
       "\n",
       "    .dataframe thead th {\n",
       "        text-align: right;\n",
       "    }\n",
       "</style>\n",
       "<table border=\"1\" class=\"dataframe\">\n",
       "  <thead>\n",
       "    <tr style=\"text-align: right;\">\n",
       "      <th></th>\n",
       "      <th>2010</th>\n",
       "      <th>2011</th>\n",
       "      <th>2012</th>\n",
       "      <th>2013</th>\n",
       "      <th>2014</th>\n",
       "      <th>2015</th>\n",
       "      <th>2016</th>\n",
       "      <th>2017</th>\n",
       "      <th>2018</th>\n",
       "    </tr>\n",
       "  </thead>\n",
       "  <tbody>\n",
       "    <tr>\n",
       "      <td>0</td>\n",
       "      <td>0.299180</td>\n",
       "      <td>0.673729</td>\n",
       "      <td>1.000000</td>\n",
       "      <td>0.909502</td>\n",
       "      <td>0.780269</td>\n",
       "      <td>0.949153</td>\n",
       "      <td>0.814672</td>\n",
       "      <td>0.947598</td>\n",
       "      <td>0.770677</td>\n",
       "    </tr>\n",
       "    <tr>\n",
       "      <td>1</td>\n",
       "      <td>0.184426</td>\n",
       "      <td>0.436441</td>\n",
       "      <td>0.568627</td>\n",
       "      <td>0.520362</td>\n",
       "      <td>0.650224</td>\n",
       "      <td>0.529661</td>\n",
       "      <td>0.505792</td>\n",
       "      <td>0.659389</td>\n",
       "      <td>0.462406</td>\n",
       "    </tr>\n",
       "    <tr>\n",
       "      <td>2</td>\n",
       "      <td>0.061475</td>\n",
       "      <td>0.258475</td>\n",
       "      <td>0.210784</td>\n",
       "      <td>0.158371</td>\n",
       "      <td>0.295964</td>\n",
       "      <td>0.228814</td>\n",
       "      <td>0.189189</td>\n",
       "      <td>0.170306</td>\n",
       "      <td>0.131579</td>\n",
       "    </tr>\n",
       "    <tr>\n",
       "      <td>3</td>\n",
       "      <td>0.053279</td>\n",
       "      <td>0.101695</td>\n",
       "      <td>0.107843</td>\n",
       "      <td>0.149321</td>\n",
       "      <td>0.210762</td>\n",
       "      <td>0.127119</td>\n",
       "      <td>0.173745</td>\n",
       "      <td>0.091703</td>\n",
       "      <td>0.146617</td>\n",
       "    </tr>\n",
       "    <tr>\n",
       "      <td>4</td>\n",
       "      <td>0.586066</td>\n",
       "      <td>0.338983</td>\n",
       "      <td>0.607843</td>\n",
       "      <td>0.597285</td>\n",
       "      <td>0.677130</td>\n",
       "      <td>0.474576</td>\n",
       "      <td>0.374517</td>\n",
       "      <td>0.144105</td>\n",
       "      <td>0.402256</td>\n",
       "    </tr>\n",
       "  </tbody>\n",
       "</table>\n",
       "</div>"
      ],
      "text/plain": [
       "       2010      2011      2012      2013      2014      2015      2016  \\\n",
       "0  0.299180  0.673729  1.000000  0.909502  0.780269  0.949153  0.814672   \n",
       "1  0.184426  0.436441  0.568627  0.520362  0.650224  0.529661  0.505792   \n",
       "2  0.061475  0.258475  0.210784  0.158371  0.295964  0.228814  0.189189   \n",
       "3  0.053279  0.101695  0.107843  0.149321  0.210762  0.127119  0.173745   \n",
       "4  0.586066  0.338983  0.607843  0.597285  0.677130  0.474576  0.374517   \n",
       "\n",
       "       2017      2018  \n",
       "0  0.947598  0.770677  \n",
       "1  0.659389  0.462406  \n",
       "2  0.170306  0.131579  \n",
       "3  0.091703  0.146617  \n",
       "4  0.144105  0.402256  "
      ]
     },
     "execution_count": 14,
     "metadata": {},
     "output_type": "execute_result"
    }
   ],
   "source": [
    "from sklearn.preprocessing import MinMaxScaler\n",
    "scaler = MinMaxScaler()\n",
    "df_sc = pd.DataFrame(scaler.fit_transform(df[carac]),columns=carac)\n",
    "df_sc.head()"
   ]
  },
  {
   "cell_type": "code",
   "execution_count": 15,
   "metadata": {},
   "outputs": [
    {
     "data": {
      "text/html": [
       "<div>\n",
       "<style scoped>\n",
       "    .dataframe tbody tr th:only-of-type {\n",
       "        vertical-align: middle;\n",
       "    }\n",
       "\n",
       "    .dataframe tbody tr th {\n",
       "        vertical-align: top;\n",
       "    }\n",
       "\n",
       "    .dataframe thead th {\n",
       "        text-align: right;\n",
       "    }\n",
       "</style>\n",
       "<table border=\"1\" class=\"dataframe\">\n",
       "  <thead>\n",
       "    <tr style=\"text-align: right;\">\n",
       "      <th></th>\n",
       "      <th>2010</th>\n",
       "      <th>2011</th>\n",
       "      <th>2012</th>\n",
       "      <th>2013</th>\n",
       "      <th>2014</th>\n",
       "      <th>2015</th>\n",
       "      <th>2016</th>\n",
       "      <th>2017</th>\n",
       "      <th>2018</th>\n",
       "    </tr>\n",
       "  </thead>\n",
       "  <tbody>\n",
       "    <tr>\n",
       "      <td>0</td>\n",
       "      <td>32.723845</td>\n",
       "      <td>-7.792979</td>\n",
       "      <td>3.875021</td>\n",
       "      <td>3.840625</td>\n",
       "      <td>-2.744627</td>\n",
       "      <td>0.542875</td>\n",
       "      <td>-0.442981</td>\n",
       "      <td>-2.123199</td>\n",
       "      <td>1.071797</td>\n",
       "    </tr>\n",
       "    <tr>\n",
       "      <td>1</td>\n",
       "      <td>11.976944</td>\n",
       "      <td>-4.699373</td>\n",
       "      <td>2.947992</td>\n",
       "      <td>-0.425040</td>\n",
       "      <td>-0.651861</td>\n",
       "      <td>1.164189</td>\n",
       "      <td>-3.166124</td>\n",
       "      <td>-1.368421</td>\n",
       "      <td>0.974079</td>\n",
       "    </tr>\n",
       "    <tr>\n",
       "      <td>2</td>\n",
       "      <td>-10.007942</td>\n",
       "      <td>0.841476</td>\n",
       "      <td>2.134090</td>\n",
       "      <td>-1.042592</td>\n",
       "      <td>-1.565784</td>\n",
       "      <td>0.241149</td>\n",
       "      <td>-0.952096</td>\n",
       "      <td>0.908870</td>\n",
       "      <td>1.095359</td>\n",
       "    </tr>\n",
       "    <tr>\n",
       "      <td>3</td>\n",
       "      <td>-14.137306</td>\n",
       "      <td>0.061344</td>\n",
       "      <td>1.151146</td>\n",
       "      <td>0.555411</td>\n",
       "      <td>1.502926</td>\n",
       "      <td>0.173070</td>\n",
       "      <td>-0.446984</td>\n",
       "      <td>1.104472</td>\n",
       "      <td>0.631751</td>\n",
       "    </tr>\n",
       "    <tr>\n",
       "      <td>4</td>\n",
       "      <td>9.135984</td>\n",
       "      <td>8.110569</td>\n",
       "      <td>1.416848</td>\n",
       "      <td>1.144953</td>\n",
       "      <td>6.041697</td>\n",
       "      <td>3.121624</td>\n",
       "      <td>2.543002</td>\n",
       "      <td>-1.002792</td>\n",
       "      <td>2.364029</td>\n",
       "    </tr>\n",
       "  </tbody>\n",
       "</table>\n",
       "</div>"
      ],
      "text/plain": [
       "        2010      2011      2012      2013      2014      2015      2016  \\\n",
       "0  32.723845 -7.792979  3.875021  3.840625 -2.744627  0.542875 -0.442981   \n",
       "1  11.976944 -4.699373  2.947992 -0.425040 -0.651861  1.164189 -3.166124   \n",
       "2 -10.007942  0.841476  2.134090 -1.042592 -1.565784  0.241149 -0.952096   \n",
       "3 -14.137306  0.061344  1.151146  0.555411  1.502926  0.173070 -0.446984   \n",
       "4   9.135984  8.110569  1.416848  1.144953  6.041697  3.121624  2.543002   \n",
       "\n",
       "       2017      2018  \n",
       "0 -2.123199  1.071797  \n",
       "1 -1.368421  0.974079  \n",
       "2  0.908870  1.095359  \n",
       "3  1.104472  0.631751  \n",
       "4 -1.002792  2.364029  "
      ]
     },
     "execution_count": 15,
     "metadata": {},
     "output_type": "execute_result"
    }
   ],
   "source": [
    "pca = PCA()\n",
    "df_pca = pd.DataFrame(pca.fit_transform(df[carac]),columns=carac)\n",
    "df_pca.head()"
   ]
  },
  {
   "cell_type": "code",
   "execution_count": 16,
   "metadata": {},
   "outputs": [
    {
     "data": {
      "text/plain": [
       "array([0.81859746, 0.06460289, 0.04284981, 0.02018259, 0.01905228,\n",
       "       0.01194966, 0.00955412, 0.00777405, 0.00543714])"
      ]
     },
     "execution_count": 16,
     "metadata": {},
     "output_type": "execute_result"
    }
   ],
   "source": [
    "explained_variance = pca.explained_variance_ratio_\n",
    "explained_variance"
   ]
  },
  {
   "cell_type": "markdown",
   "metadata": {},
   "source": [
    "Expliquemos lo anterior, el primer componente tiene una variacion de 81\\%, el segundo componente 6.4\\%, el tercer componente 4.2\\%, el cuarto componente 2.01\\% los demas componentes tienen una variacion menor al 1%. Con lo anterior podemos decir que la informacion es captada por el primer y segundo componente en su mayoria e incluso podriamos incluir al tercer componente."
   ]
  },
  {
   "cell_type": "code",
   "execution_count": 20,
   "metadata": {},
   "outputs": [
    {
     "data": {
      "text/html": [
       "<div>\n",
       "<style scoped>\n",
       "    .dataframe tbody tr th:only-of-type {\n",
       "        vertical-align: middle;\n",
       "    }\n",
       "\n",
       "    .dataframe tbody tr th {\n",
       "        vertical-align: top;\n",
       "    }\n",
       "\n",
       "    .dataframe thead th {\n",
       "        text-align: right;\n",
       "    }\n",
       "</style>\n",
       "<table border=\"1\" class=\"dataframe\">\n",
       "  <thead>\n",
       "    <tr style=\"text-align: right;\">\n",
       "      <th></th>\n",
       "      <th>PC1</th>\n",
       "      <th>PC2</th>\n",
       "      <th>PC3</th>\n",
       "      <th>PC4</th>\n",
       "      <th>PC5</th>\n",
       "      <th>PC6</th>\n",
       "      <th>PC7</th>\n",
       "      <th>PC8</th>\n",
       "      <th>PCA9</th>\n",
       "      <th>obj</th>\n",
       "    </tr>\n",
       "  </thead>\n",
       "  <tbody>\n",
       "    <tr>\n",
       "      <td>0</td>\n",
       "      <td>32.723845</td>\n",
       "      <td>-7.792979</td>\n",
       "      <td>3.875021</td>\n",
       "      <td>3.840625</td>\n",
       "      <td>-2.744627</td>\n",
       "      <td>0.542875</td>\n",
       "      <td>-0.442981</td>\n",
       "      <td>-2.123199</td>\n",
       "      <td>1.071797</td>\n",
       "      <td>Hombres</td>\n",
       "    </tr>\n",
       "    <tr>\n",
       "      <td>1</td>\n",
       "      <td>11.976944</td>\n",
       "      <td>-4.699373</td>\n",
       "      <td>2.947992</td>\n",
       "      <td>-0.425040</td>\n",
       "      <td>-0.651861</td>\n",
       "      <td>1.164189</td>\n",
       "      <td>-3.166124</td>\n",
       "      <td>-1.368421</td>\n",
       "      <td>0.974079</td>\n",
       "      <td>Mujeres</td>\n",
       "    </tr>\n",
       "    <tr>\n",
       "      <td>2</td>\n",
       "      <td>-10.007942</td>\n",
       "      <td>0.841476</td>\n",
       "      <td>2.134090</td>\n",
       "      <td>-1.042592</td>\n",
       "      <td>-1.565784</td>\n",
       "      <td>0.241149</td>\n",
       "      <td>-0.952096</td>\n",
       "      <td>0.908870</td>\n",
       "      <td>1.095359</td>\n",
       "      <td>Hombres</td>\n",
       "    </tr>\n",
       "    <tr>\n",
       "      <td>3</td>\n",
       "      <td>-14.137306</td>\n",
       "      <td>0.061344</td>\n",
       "      <td>1.151146</td>\n",
       "      <td>0.555411</td>\n",
       "      <td>1.502926</td>\n",
       "      <td>0.173070</td>\n",
       "      <td>-0.446984</td>\n",
       "      <td>1.104472</td>\n",
       "      <td>0.631751</td>\n",
       "      <td>Mujeres</td>\n",
       "    </tr>\n",
       "    <tr>\n",
       "      <td>4</td>\n",
       "      <td>9.135984</td>\n",
       "      <td>8.110569</td>\n",
       "      <td>1.416848</td>\n",
       "      <td>1.144953</td>\n",
       "      <td>6.041697</td>\n",
       "      <td>3.121624</td>\n",
       "      <td>2.543002</td>\n",
       "      <td>-1.002792</td>\n",
       "      <td>2.364029</td>\n",
       "      <td>Hombres</td>\n",
       "    </tr>\n",
       "  </tbody>\n",
       "</table>\n",
       "</div>"
      ],
      "text/plain": [
       "         PC1       PC2       PC3       PC4       PC5       PC6       PC7  \\\n",
       "0  32.723845 -7.792979  3.875021  3.840625 -2.744627  0.542875 -0.442981   \n",
       "1  11.976944 -4.699373  2.947992 -0.425040 -0.651861  1.164189 -3.166124   \n",
       "2 -10.007942  0.841476  2.134090 -1.042592 -1.565784  0.241149 -0.952096   \n",
       "3 -14.137306  0.061344  1.151146  0.555411  1.502926  0.173070 -0.446984   \n",
       "4   9.135984  8.110569  1.416848  1.144953  6.041697  3.121624  2.543002   \n",
       "\n",
       "        PC8      PCA9      obj  \n",
       "0 -2.123199  1.071797  Hombres  \n",
       "1 -1.368421  0.974079  Mujeres  \n",
       "2  0.908870  1.095359  Hombres  \n",
       "3  1.104472  0.631751  Mujeres  \n",
       "4 -1.002792  2.364029  Hombres  "
      ]
     },
     "execution_count": 20,
     "metadata": {},
     "output_type": "execute_result"
    }
   ],
   "source": [
    "df_pca['obj'] = df[obj]\n",
    "df_pca.columns = ['PC1', 'PC2','PC3','PC4','PC5', 'PC6','PC7','PC8','PCA9','obj']\n",
    "df_pca.head()\n"
   ]
  },
  {
   "cell_type": "code",
   "execution_count": 37,
   "metadata": {},
   "outputs": [
    {
     "data": {
      "image/png": "[encoded data removed]",
      "text/plain": [
       "<Figure size 432x288 with 1 Axes>"
      ]
     },
     "metadata": {
      "needs_background": "light"
     },
     "output_type": "display_data"
    }
   ],
   "source": [
    "fig = plt.figure()\n",
    "ax = fig.add_subplot(1,1,1) \n",
    "ax.set_xlabel('Componente principal 1') \n",
    "ax.set_ylabel('Componente principal 2') \n",
    "ax.set_title('2 componententes PCA') \n",
    "objetivos = ['Hombres', 'Mujeres']\n",
    "colores = ['r', 'g']\n",
    "\n",
    "for obj, color in zip(objetivos,colores):\n",
    "    indicesToKeep = df_pca['obj'] == obj\n",
    "    ax.scatter(df_pca.loc[indicesToKeep, 'PC1']\n",
    "    , df_pca.loc[indicesToKeep, 'PC2']\n",
    "    , c = color\n",
    "    , s = 50)\n",
    "ax.legend(objetivos)\n",
    "ax.grid()"
   ]
  },
  {
   "cell_type": "code",
   "execution_count": 38,
   "metadata": {},
   "outputs": [
    {
     "data": {
      "image/png": "[encoded data removed]",
      "text/plain": [
       "<Figure size 432x288 with 1 Axes>"
      ]
     },
     "metadata": {
      "needs_background": "light"
     },
     "output_type": "display_data"
    }
   ],
   "source": [
    "fig = plt.figure()\n",
    "ax = fig.add_subplot(1,1,1) \n",
    "ax.set_xlabel('Componente principal 1') \n",
    "ax.set_ylabel('Componente principal 3') \n",
    "ax.set_title('2 componententes PCA') \n",
    "objetivos = ['Hombres', 'Mujeres']\n",
    "colores = ['r', 'g']\n",
    "\n",
    "for obj, color in zip(objetivos,colores):\n",
    "    indicesToKeep = df_pca['obj'] == obj\n",
    "    ax.scatter(df_pca.loc[indicesToKeep, 'PC1']\n",
    "    , df_pca.loc[indicesToKeep, 'PC3']\n",
    "    , c = color\n",
    "    , s = 50)\n",
    "ax.legend(objetivos)\n",
    "ax.grid()"
   ]
  },
  {
   "cell_type": "code",
   "execution_count": 42,
   "metadata": {},
   "outputs": [
    {
     "data": {
      "image/png": "[encoded data removed]",
      "text/plain": [
       "<Figure size 432x288 with 1 Axes>"
      ]
     },
     "metadata": {
      "needs_background": "light"
     },
     "output_type": "display_data"
    }
   ],
   "source": [
    "fig = plt.figure()\n",
    "ax = fig.add_subplot(1,1,1) \n",
    "ax.set_xlabel('Componente principal 2') \n",
    "ax.set_ylabel('Componente principal 3') \n",
    "ax.set_title('2 componententes PCA') \n",
    "objetivos = ['Hombres', 'Mujeres']\n",
    "colores = ['r', 'g']\n",
    "\n",
    "for obj, color in zip(objetivos,colores):\n",
    "    indicesToKeep = df_pca['obj'] == obj\n",
    "    ax.scatter(df_pca.loc[indicesToKeep, 'PC2']\n",
    "    , df_pca.loc[indicesToKeep, 'PC3']\n",
    "    , c = color\n",
    "    , s = 50)\n",
    "ax.legend(objetivos)\n",
    "ax.grid()"
   ]
  },
  {
   "cell_type": "markdown",
   "metadata": {},
   "source": [
    "## Datos de la tasa de abandono escolar"
   ]
  },
  {
   "cell_type": "markdown",
   "metadata": {},
   "source": [
    "### Analisis de componentes principales"
   ]
  },
  {
   "cell_type": "code",
   "execution_count": 59,
   "metadata": {},
   "outputs": [
    {
     "data": {
      "text/html": [
       "<div>\n",
       "<style scoped>\n",
       "    .dataframe tbody tr th:only-of-type {\n",
       "        vertical-align: middle;\n",
       "    }\n",
       "\n",
       "    .dataframe tbody tr th {\n",
       "        vertical-align: top;\n",
       "    }\n",
       "\n",
       "    .dataframe thead th {\n",
       "        text-align: right;\n",
       "    }\n",
       "</style>\n",
       "<table border=\"1\" class=\"dataframe\">\n",
       "  <thead>\n",
       "    <tr style=\"text-align: right;\">\n",
       "      <th></th>\n",
       "      <th>Entidad Federativa</th>\n",
       "      <th>Nivel Educativo</th>\n",
       "      <th>2000/2001</th>\n",
       "      <th>2005/2006</th>\n",
       "      <th>2010/2011</th>\n",
       "      <th>2015/1016</th>\n",
       "      <th>2018/2019</th>\n",
       "    </tr>\n",
       "  </thead>\n",
       "  <tbody>\n",
       "    <tr>\n",
       "      <td>0</td>\n",
       "      <td>Aguascalientes</td>\n",
       "      <td>Primaria</td>\n",
       "      <td>1.5</td>\n",
       "      <td>1.6</td>\n",
       "      <td>-0.2</td>\n",
       "      <td>0.2</td>\n",
       "      <td>0.1</td>\n",
       "    </tr>\n",
       "    <tr>\n",
       "      <td>1</td>\n",
       "      <td>Aguascalientes</td>\n",
       "      <td>Secundaria</td>\n",
       "      <td>8.0</td>\n",
       "      <td>8.2</td>\n",
       "      <td>4.5</td>\n",
       "      <td>5.9</td>\n",
       "      <td>5.8</td>\n",
       "    </tr>\n",
       "    <tr>\n",
       "      <td>2</td>\n",
       "      <td>Aguascalientes</td>\n",
       "      <td>Media superior</td>\n",
       "      <td>16.6</td>\n",
       "      <td>15.6</td>\n",
       "      <td>15.2</td>\n",
       "      <td>13.3</td>\n",
       "      <td>12.4</td>\n",
       "    </tr>\n",
       "    <tr>\n",
       "      <td>3</td>\n",
       "      <td>Aguascalientes</td>\n",
       "      <td>Superior</td>\n",
       "      <td>3.8</td>\n",
       "      <td>5.8</td>\n",
       "      <td>7.3</td>\n",
       "      <td>6.3</td>\n",
       "      <td>7.5</td>\n",
       "    </tr>\n",
       "    <tr>\n",
       "      <td>4</td>\n",
       "      <td>Baja California</td>\n",
       "      <td>Primaria</td>\n",
       "      <td>1.3</td>\n",
       "      <td>1.2</td>\n",
       "      <td>0.2</td>\n",
       "      <td>-0.2</td>\n",
       "      <td>0.4</td>\n",
       "    </tr>\n",
       "  </tbody>\n",
       "</table>\n",
       "</div>"
      ],
      "text/plain": [
       "  Entidad Federativa Nivel Educativo  2000/2001  2005/2006  2010/2011  \\\n",
       "0     Aguascalientes        Primaria        1.5        1.6       -0.2   \n",
       "1     Aguascalientes      Secundaria        8.0        8.2        4.5   \n",
       "2     Aguascalientes  Media superior       16.6       15.6       15.2   \n",
       "3     Aguascalientes        Superior        3.8        5.8        7.3   \n",
       "4    Baja California        Primaria        1.3        1.2        0.2   \n",
       "\n",
       "   2015/1016  2018/2019  \n",
       "0        0.2        0.1  \n",
       "1        5.9        5.8  \n",
       "2       13.3       12.4  \n",
       "3        6.3        7.5  \n",
       "4       -0.2        0.4  "
      ]
     },
     "execution_count": 59,
     "metadata": {},
     "output_type": "execute_result"
    }
   ],
   "source": [
    "path1 = 'Tasa de abandono 2010-2018.csv'\n",
    "all_var1 = ['Entidad Federativa','Nivel Educativo','2000/2001','2005/2006','2010/2011','2015/1016','2018/2019']\n",
    "carac1 = ['2000/2001','2005/2006','2010/2011','2015/1016','2018/2019']\n",
    "obj1 = ['Nivel Educativo']\n",
    "df1 = pd.read_csv(path1, names=all_var1)\n",
    "df1.head()"
   ]
  },
  {
   "cell_type": "code",
   "execution_count": 60,
   "metadata": {},
   "outputs": [
    {
     "data": {
      "text/html": [
       "<div>\n",
       "<style scoped>\n",
       "    .dataframe tbody tr th:only-of-type {\n",
       "        vertical-align: middle;\n",
       "    }\n",
       "\n",
       "    .dataframe tbody tr th {\n",
       "        vertical-align: top;\n",
       "    }\n",
       "\n",
       "    .dataframe thead th {\n",
       "        text-align: right;\n",
       "    }\n",
       "</style>\n",
       "<table border=\"1\" class=\"dataframe\">\n",
       "  <thead>\n",
       "    <tr style=\"text-align: right;\">\n",
       "      <th></th>\n",
       "      <th>2000/2001</th>\n",
       "      <th>2005/2006</th>\n",
       "      <th>2010/2011</th>\n",
       "      <th>2015/1016</th>\n",
       "      <th>2018/2019</th>\n",
       "    </tr>\n",
       "  </thead>\n",
       "  <tbody>\n",
       "    <tr>\n",
       "      <td>0</td>\n",
       "      <td>0.112033</td>\n",
       "      <td>0.097458</td>\n",
       "      <td>0.140794</td>\n",
       "      <td>0.080357</td>\n",
       "      <td>0.034314</td>\n",
       "    </tr>\n",
       "    <tr>\n",
       "      <td>1</td>\n",
       "      <td>0.381743</td>\n",
       "      <td>0.377119</td>\n",
       "      <td>0.310469</td>\n",
       "      <td>0.334821</td>\n",
       "      <td>0.313725</td>\n",
       "    </tr>\n",
       "    <tr>\n",
       "      <td>2</td>\n",
       "      <td>0.738589</td>\n",
       "      <td>0.690678</td>\n",
       "      <td>0.696751</td>\n",
       "      <td>0.665179</td>\n",
       "      <td>0.637255</td>\n",
       "    </tr>\n",
       "    <tr>\n",
       "      <td>3</td>\n",
       "      <td>0.207469</td>\n",
       "      <td>0.275424</td>\n",
       "      <td>0.411552</td>\n",
       "      <td>0.352679</td>\n",
       "      <td>0.397059</td>\n",
       "    </tr>\n",
       "    <tr>\n",
       "      <td>4</td>\n",
       "      <td>0.103734</td>\n",
       "      <td>0.080508</td>\n",
       "      <td>0.155235</td>\n",
       "      <td>0.062500</td>\n",
       "      <td>0.049020</td>\n",
       "    </tr>\n",
       "  </tbody>\n",
       "</table>\n",
       "</div>"
      ],
      "text/plain": [
       "   2000/2001  2005/2006  2010/2011  2015/1016  2018/2019\n",
       "0   0.112033   0.097458   0.140794   0.080357   0.034314\n",
       "1   0.381743   0.377119   0.310469   0.334821   0.313725\n",
       "2   0.738589   0.690678   0.696751   0.665179   0.637255\n",
       "3   0.207469   0.275424   0.411552   0.352679   0.397059\n",
       "4   0.103734   0.080508   0.155235   0.062500   0.049020"
      ]
     },
     "execution_count": 60,
     "metadata": {},
     "output_type": "execute_result"
    }
   ],
   "source": [
    "scaler = MinMaxScaler()\n",
    "df_sc1 = pd.DataFrame(scaler.fit_transform(df1[carac1]),columns=carac1)\n",
    "df_sc1.head()"
   ]
  },
  {
   "cell_type": "code",
   "execution_count": 62,
   "metadata": {},
   "outputs": [
    {
     "data": {
      "text/html": [
       "<div>\n",
       "<style scoped>\n",
       "    .dataframe tbody tr th:only-of-type {\n",
       "        vertical-align: middle;\n",
       "    }\n",
       "\n",
       "    .dataframe tbody tr th {\n",
       "        vertical-align: top;\n",
       "    }\n",
       "\n",
       "    .dataframe thead th {\n",
       "        text-align: right;\n",
       "    }\n",
       "</style>\n",
       "<table border=\"1\" class=\"dataframe\">\n",
       "  <thead>\n",
       "    <tr style=\"text-align: right;\">\n",
       "      <th></th>\n",
       "      <th>2000/2001</th>\n",
       "      <th>2005/2006</th>\n",
       "      <th>2010/2011</th>\n",
       "      <th>2015/1016</th>\n",
       "      <th>2018/2019</th>\n",
       "    </tr>\n",
       "  </thead>\n",
       "  <tbody>\n",
       "    <tr>\n",
       "      <td>0</td>\n",
       "      <td>-15.625375</td>\n",
       "      <td>-0.049827</td>\n",
       "      <td>-0.374606</td>\n",
       "      <td>-0.677257</td>\n",
       "      <td>0.225668</td>\n",
       "    </tr>\n",
       "    <tr>\n",
       "      <td>1</td>\n",
       "      <td>-2.560925</td>\n",
       "      <td>-0.140863</td>\n",
       "      <td>-1.148795</td>\n",
       "      <td>-0.444093</td>\n",
       "      <td>1.465889</td>\n",
       "    </tr>\n",
       "    <tr>\n",
       "      <td>2</td>\n",
       "      <td>15.702106</td>\n",
       "      <td>-0.229804</td>\n",
       "      <td>0.430393</td>\n",
       "      <td>0.345318</td>\n",
       "      <td>-0.740182</td>\n",
       "    </tr>\n",
       "    <tr>\n",
       "      <td>3</td>\n",
       "      <td>-3.597341</td>\n",
       "      <td>4.158559</td>\n",
       "      <td>2.092101</td>\n",
       "      <td>0.935294</td>\n",
       "      <td>-0.058808</td>\n",
       "    </tr>\n",
       "    <tr>\n",
       "      <td>4</td>\n",
       "      <td>-15.784841</td>\n",
       "      <td>0.024031</td>\n",
       "      <td>0.283774</td>\n",
       "      <td>-0.307350</td>\n",
       "      <td>0.131750</td>\n",
       "    </tr>\n",
       "  </tbody>\n",
       "</table>\n",
       "</div>"
      ],
      "text/plain": [
       "   2000/2001  2005/2006  2010/2011  2015/1016  2018/2019\n",
       "0 -15.625375  -0.049827  -0.374606  -0.677257   0.225668\n",
       "1  -2.560925  -0.140863  -1.148795  -0.444093   1.465889\n",
       "2  15.702106  -0.229804   0.430393   0.345318  -0.740182\n",
       "3  -3.597341   4.158559   2.092101   0.935294  -0.058808\n",
       "4 -15.784841   0.024031   0.283774  -0.307350   0.131750"
      ]
     },
     "execution_count": 62,
     "metadata": {},
     "output_type": "execute_result"
    }
   ],
   "source": [
    "pca1 = PCA()\n",
    "df1_pca1 = pd.DataFrame(pca1.fit_transform(df1[carac1]),columns=carac1)\n",
    "df1_pca1.head()"
   ]
  },
  {
   "cell_type": "code",
   "execution_count": 63,
   "metadata": {},
   "outputs": [
    {
     "data": {
      "text/plain": [
       "array([0.91060251, 0.03734383, 0.0197195 , 0.01884953, 0.01348463])"
      ]
     },
     "execution_count": 63,
     "metadata": {},
     "output_type": "execute_result"
    }
   ],
   "source": [
    "explained_variance1 = pca1.explained_variance_ratio_\n",
    "explained_variance1"
   ]
  },
  {
   "cell_type": "markdown",
   "metadata": {},
   "source": [
    "El primer componente tiene una variacion de 91%, el segundo componente 3.7%, el tercer componente 1.9%, los demas componentes tienen una variacion menor al 1.9%. Con lo anterior podemos decir que la informacion es captada por el primer y segundo componente."
   ]
  },
  {
   "cell_type": "code",
   "execution_count": 64,
   "metadata": {},
   "outputs": [
    {
     "data": {
      "text/html": [
       "<div>\n",
       "<style scoped>\n",
       "    .dataframe tbody tr th:only-of-type {\n",
       "        vertical-align: middle;\n",
       "    }\n",
       "\n",
       "    .dataframe tbody tr th {\n",
       "        vertical-align: top;\n",
       "    }\n",
       "\n",
       "    .dataframe thead th {\n",
       "        text-align: right;\n",
       "    }\n",
       "</style>\n",
       "<table border=\"1\" class=\"dataframe\">\n",
       "  <thead>\n",
       "    <tr style=\"text-align: right;\">\n",
       "      <th></th>\n",
       "      <th>PC1</th>\n",
       "      <th>PC2</th>\n",
       "      <th>PC3</th>\n",
       "      <th>PC4</th>\n",
       "      <th>PC5</th>\n",
       "      <th>obj1</th>\n",
       "    </tr>\n",
       "  </thead>\n",
       "  <tbody>\n",
       "    <tr>\n",
       "      <td>0</td>\n",
       "      <td>-15.625375</td>\n",
       "      <td>-0.049827</td>\n",
       "      <td>-0.374606</td>\n",
       "      <td>-0.677257</td>\n",
       "      <td>0.225668</td>\n",
       "      <td>Primaria</td>\n",
       "    </tr>\n",
       "    <tr>\n",
       "      <td>1</td>\n",
       "      <td>-2.560925</td>\n",
       "      <td>-0.140863</td>\n",
       "      <td>-1.148795</td>\n",
       "      <td>-0.444093</td>\n",
       "      <td>1.465889</td>\n",
       "      <td>Secundaria</td>\n",
       "    </tr>\n",
       "    <tr>\n",
       "      <td>2</td>\n",
       "      <td>15.702106</td>\n",
       "      <td>-0.229804</td>\n",
       "      <td>0.430393</td>\n",
       "      <td>0.345318</td>\n",
       "      <td>-0.740182</td>\n",
       "      <td>Media superior</td>\n",
       "    </tr>\n",
       "    <tr>\n",
       "      <td>3</td>\n",
       "      <td>-3.597341</td>\n",
       "      <td>4.158559</td>\n",
       "      <td>2.092101</td>\n",
       "      <td>0.935294</td>\n",
       "      <td>-0.058808</td>\n",
       "      <td>Superior</td>\n",
       "    </tr>\n",
       "    <tr>\n",
       "      <td>4</td>\n",
       "      <td>-15.784841</td>\n",
       "      <td>0.024031</td>\n",
       "      <td>0.283774</td>\n",
       "      <td>-0.307350</td>\n",
       "      <td>0.131750</td>\n",
       "      <td>Primaria</td>\n",
       "    </tr>\n",
       "  </tbody>\n",
       "</table>\n",
       "</div>"
      ],
      "text/plain": [
       "         PC1       PC2       PC3       PC4       PC5            obj1\n",
       "0 -15.625375 -0.049827 -0.374606 -0.677257  0.225668        Primaria\n",
       "1  -2.560925 -0.140863 -1.148795 -0.444093  1.465889      Secundaria\n",
       "2  15.702106 -0.229804  0.430393  0.345318 -0.740182  Media superior\n",
       "3  -3.597341  4.158559  2.092101  0.935294 -0.058808        Superior\n",
       "4 -15.784841  0.024031  0.283774 -0.307350  0.131750        Primaria"
      ]
     },
     "execution_count": 64,
     "metadata": {},
     "output_type": "execute_result"
    }
   ],
   "source": [
    "df1_pca1['obj1'] = df1[obj1]\n",
    "df1_pca1.columns = ['PC1', 'PC2','PC3','PC4','PC5','obj1']\n",
    "df1_pca1.head()"
   ]
  },
  {
   "cell_type": "code",
   "execution_count": 67,
   "metadata": {},
   "outputs": [
    {
     "data": {
      "image/png": "[encoded data removed]",
      "text/plain": [
       "<Figure size 432x288 with 1 Axes>"
      ]
     },
     "metadata": {
      "needs_background": "light"
     },
     "output_type": "display_data"
    }
   ],
   "source": [
    "fig = plt.figure()\n",
    "ax = fig.add_subplot(1,1,1) \n",
    "ax.set_xlabel('Componente principal 1') \n",
    "ax.set_ylabel('Componente principal 2') \n",
    "ax.set_title('2 componententes PCA') \n",
    "objetivos1 = ['Primaria','Secundaria','Media superior','Superior']\n",
    "colores1 = ['r', 'g','b','c']\n",
    "\n",
    "for obj1, color in zip(objetivos1,colores1):\n",
    "    indicesToKeep = df1_pca1['obj1'] == obj1\n",
    "    ax.scatter(df1_pca1.loc[indicesToKeep, 'PC1']\n",
    "    , df1_pca1.loc[indicesToKeep, 'PC2']\n",
    "    , c = color\n",
    "    , s = 50)\n",
    "ax.legend(objetivos1)\n",
    "ax.grid()"
   ]
  },
  {
   "cell_type": "code",
   "execution_count": 69,
   "metadata": {},
   "outputs": [
    {
     "data": {
      "image/png": "[encoded data removed]",
      "text/plain": [
       "<Figure size 432x288 with 1 Axes>"
      ]
     },
     "metadata": {
      "needs_background": "light"
     },
     "output_type": "display_data"
    }
   ],
   "source": [
    "fig = plt.figure()\n",
    "ax = fig.add_subplot(1,1,1) \n",
    "ax.set_xlabel('Componente principal 1') \n",
    "ax.set_ylabel('Componente principal 3') \n",
    "ax.set_title('2 componententes PCA') \n",
    "objetivos1 = ['Primaria','Secundaria','Media superior','Superior']\n",
    "colores1 = ['r', 'g','b','c']\n",
    "\n",
    "for obj1, color in zip(objetivos1,colores1):\n",
    "    indicesToKeep = df1_pca1['obj1'] == obj1\n",
    "    ax.scatter(df1_pca1.loc[indicesToKeep, 'PC1']\n",
    "    , df1_pca1.loc[indicesToKeep, 'PC3']\n",
    "    , c = color\n",
    "    , s = 50)\n",
    "ax.legend(objetivos1)\n",
    "ax.grid()"
   ]
  },
  {
   "cell_type": "code",
   "execution_count": 70,
   "metadata": {},
   "outputs": [
    {
     "data": {
      "image/png": "[encoded data removed]",
      "text/plain": [
       "<Figure size 432x288 with 1 Axes>"
      ]
     },
     "metadata": {
      "needs_background": "light"
     },
     "output_type": "display_data"
    }
   ],
   "source": [
    "fig = plt.figure()\n",
    "ax = fig.add_subplot(1,1,1) \n",
    "ax.set_xlabel('Componente principal 2') \n",
    "ax.set_ylabel('Componente principal 3') \n",
    "ax.set_title('2 componententes PCA') \n",
    "objetivos1 = ['Primaria','Secundaria','Media superior','Superior']\n",
    "colores1 = ['r', 'g','b','c']\n",
    "\n",
    "for obj1, color in zip(objetivos1,colores1):\n",
    "    indicesToKeep = df1_pca1['obj1'] == obj1\n",
    "    ax.scatter(df1_pca1.loc[indicesToKeep, 'PC2']\n",
    "    , df1_pca1.loc[indicesToKeep, 'PC3']\n",
    "    , c = color\n",
    "    , s = 50)\n",
    "ax.legend(objetivos1)\n",
    "ax.grid()"
   ]
  },
  {
   "cell_type": "markdown",
   "metadata": {},
   "source": [
    "## Datos de la tasa de casos nuevos de depresión y anorexia"
   ]
  },
  {
   "cell_type": "markdown",
   "metadata": {},
   "source": [
    "### Analisis de componentes principales"
   ]
  },
  {
   "cell_type": "code",
   "execution_count": 72,
   "metadata": {},
   "outputs": [
    {
     "data": {
      "text/html": [
       "<div>\n",
       "<style scoped>\n",
       "    .dataframe tbody tr th:only-of-type {\n",
       "        vertical-align: middle;\n",
       "    }\n",
       "\n",
       "    .dataframe tbody tr th {\n",
       "        vertical-align: top;\n",
       "    }\n",
       "\n",
       "    .dataframe thead th {\n",
       "        text-align: right;\n",
       "    }\n",
       "</style>\n",
       "<table border=\"1\" class=\"dataframe\">\n",
       "  <thead>\n",
       "    <tr style=\"text-align: right;\">\n",
       "      <th></th>\n",
       "      <th>Entidad Federativa</th>\n",
       "      <th>Enfermadad Mental</th>\n",
       "      <th>2014</th>\n",
       "      <th>2015</th>\n",
       "      <th>2016</th>\n",
       "      <th>2017</th>\n",
       "      <th>2018</th>\n",
       "    </tr>\n",
       "  </thead>\n",
       "  <tbody>\n",
       "    <tr>\n",
       "      <td>0</td>\n",
       "      <td>Aguascalientes</td>\n",
       "      <td>Depresión</td>\n",
       "      <td>78.81</td>\n",
       "      <td>170.62</td>\n",
       "      <td>239.13</td>\n",
       "      <td>225.13</td>\n",
       "      <td>107.32</td>\n",
       "    </tr>\n",
       "    <tr>\n",
       "      <td>1</td>\n",
       "      <td>Aguascalientes</td>\n",
       "      <td>Anorexia y bulimia</td>\n",
       "      <td>1.34</td>\n",
       "      <td>1.71</td>\n",
       "      <td>2.91</td>\n",
       "      <td>2.35</td>\n",
       "      <td>1.58</td>\n",
       "    </tr>\n",
       "    <tr>\n",
       "      <td>2</td>\n",
       "      <td>Baja California</td>\n",
       "      <td>Depresión</td>\n",
       "      <td>80.46</td>\n",
       "      <td>79.93</td>\n",
       "      <td>82.86</td>\n",
       "      <td>107.68</td>\n",
       "      <td>144.81</td>\n",
       "    </tr>\n",
       "    <tr>\n",
       "      <td>3</td>\n",
       "      <td>Baja California</td>\n",
       "      <td>Anorexia y bulimia</td>\n",
       "      <td>6.38</td>\n",
       "      <td>5.02</td>\n",
       "      <td>3.90</td>\n",
       "      <td>4.49</td>\n",
       "      <td>5.11</td>\n",
       "    </tr>\n",
       "    <tr>\n",
       "      <td>4</td>\n",
       "      <td>Baja California Sur</td>\n",
       "      <td>Depresión</td>\n",
       "      <td>117.67</td>\n",
       "      <td>117.55</td>\n",
       "      <td>104.97</td>\n",
       "      <td>133.85</td>\n",
       "      <td>112.67</td>\n",
       "    </tr>\n",
       "  </tbody>\n",
       "</table>\n",
       "</div>"
      ],
      "text/plain": [
       "    Entidad Federativa   Enfermadad Mental    2014    2015    2016    2017  \\\n",
       "0       Aguascalientes           Depresión   78.81  170.62  239.13  225.13   \n",
       "1       Aguascalientes  Anorexia y bulimia    1.34    1.71    2.91    2.35   \n",
       "2      Baja California           Depresión   80.46   79.93   82.86  107.68   \n",
       "3      Baja California  Anorexia y bulimia    6.38    5.02    3.90    4.49   \n",
       "4  Baja California Sur           Depresión  117.67  117.55  104.97  133.85   \n",
       "\n",
       "     2018  \n",
       "0  107.32  \n",
       "1    1.58  \n",
       "2  144.81  \n",
       "3    5.11  \n",
       "4  112.67  "
      ]
     },
     "execution_count": 72,
     "metadata": {},
     "output_type": "execute_result"
    }
   ],
   "source": [
    "path2 = 'Tasa de casos nuevos de enfermedad mental.csv'\n",
    "all_var2 = ['Entidad Federativa','Enfermadad Mental','2014','2015','2016','2017','2018']\n",
    "carac2 = ['2014','2015','2016','2017','2018']\n",
    "obj2 = ['Enfermadad Mental']\n",
    "df2 = pd.read_csv(path2, names=all_var2)\n",
    "df2.head()"
   ]
  },
  {
   "cell_type": "code",
   "execution_count": 73,
   "metadata": {},
   "outputs": [
    {
     "data": {
      "text/html": [
       "<div>\n",
       "<style scoped>\n",
       "    .dataframe tbody tr th:only-of-type {\n",
       "        vertical-align: middle;\n",
       "    }\n",
       "\n",
       "    .dataframe tbody tr th {\n",
       "        vertical-align: top;\n",
       "    }\n",
       "\n",
       "    .dataframe thead th {\n",
       "        text-align: right;\n",
       "    }\n",
       "</style>\n",
       "<table border=\"1\" class=\"dataframe\">\n",
       "  <thead>\n",
       "    <tr style=\"text-align: right;\">\n",
       "      <th></th>\n",
       "      <th>2014</th>\n",
       "      <th>2015</th>\n",
       "      <th>2016</th>\n",
       "      <th>2017</th>\n",
       "      <th>2018</th>\n",
       "    </tr>\n",
       "  </thead>\n",
       "  <tbody>\n",
       "    <tr>\n",
       "      <td>0</td>\n",
       "      <td>0.529246</td>\n",
       "      <td>0.648790</td>\n",
       "      <td>0.917822</td>\n",
       "      <td>0.837038</td>\n",
       "      <td>0.361631</td>\n",
       "    </tr>\n",
       "    <tr>\n",
       "      <td>1</td>\n",
       "      <td>0.008999</td>\n",
       "      <td>0.004955</td>\n",
       "      <td>0.010296</td>\n",
       "      <td>0.006080</td>\n",
       "      <td>0.003422</td>\n",
       "    </tr>\n",
       "    <tr>\n",
       "      <td>2</td>\n",
       "      <td>0.540326</td>\n",
       "      <td>0.303107</td>\n",
       "      <td>0.317454</td>\n",
       "      <td>0.398956</td>\n",
       "      <td>0.488634</td>\n",
       "    </tr>\n",
       "    <tr>\n",
       "      <td>3</td>\n",
       "      <td>0.042845</td>\n",
       "      <td>0.017572</td>\n",
       "      <td>0.014100</td>\n",
       "      <td>0.014062</td>\n",
       "      <td>0.015380</td>\n",
       "    </tr>\n",
       "    <tr>\n",
       "      <td>4</td>\n",
       "      <td>0.790209</td>\n",
       "      <td>0.446503</td>\n",
       "      <td>0.402397</td>\n",
       "      <td>0.496568</td>\n",
       "      <td>0.379755</td>\n",
       "    </tr>\n",
       "  </tbody>\n",
       "</table>\n",
       "</div>"
      ],
      "text/plain": [
       "       2014      2015      2016      2017      2018\n",
       "0  0.529246  0.648790  0.917822  0.837038  0.361631\n",
       "1  0.008999  0.004955  0.010296  0.006080  0.003422\n",
       "2  0.540326  0.303107  0.317454  0.398956  0.488634\n",
       "3  0.042845  0.017572  0.014100  0.014062  0.015380\n",
       "4  0.790209  0.446503  0.402397  0.496568  0.379755"
      ]
     },
     "execution_count": 73,
     "metadata": {},
     "output_type": "execute_result"
    }
   ],
   "source": [
    "scaler = MinMaxScaler()\n",
    "df_sc2 = pd.DataFrame(scaler.fit_transform(df2[carac2]),columns=carac2)\n",
    "df_sc2.head()"
   ]
  },
  {
   "cell_type": "code",
   "execution_count": 74,
   "metadata": {},
   "outputs": [
    {
     "data": {
      "text/html": [
       "<div>\n",
       "<style scoped>\n",
       "    .dataframe tbody tr th:only-of-type {\n",
       "        vertical-align: middle;\n",
       "    }\n",
       "\n",
       "    .dataframe tbody tr th {\n",
       "        vertical-align: top;\n",
       "    }\n",
       "\n",
       "    .dataframe thead th {\n",
       "        text-align: right;\n",
       "    }\n",
       "</style>\n",
       "<table border=\"1\" class=\"dataframe\">\n",
       "  <thead>\n",
       "    <tr style=\"text-align: right;\">\n",
       "      <th></th>\n",
       "      <th>2014</th>\n",
       "      <th>2015</th>\n",
       "      <th>2016</th>\n",
       "      <th>2017</th>\n",
       "      <th>2018</th>\n",
       "    </tr>\n",
       "  </thead>\n",
       "  <tbody>\n",
       "    <tr>\n",
       "      <td>0</td>\n",
       "      <td>266.697130</td>\n",
       "      <td>114.243273</td>\n",
       "      <td>-0.042726</td>\n",
       "      <td>-18.683319</td>\n",
       "      <td>19.472695</td>\n",
       "    </tr>\n",
       "    <tr>\n",
       "      <td>1</td>\n",
       "      <td>-104.587227</td>\n",
       "      <td>2.088871</td>\n",
       "      <td>-1.212675</td>\n",
       "      <td>1.176036</td>\n",
       "      <td>1.653968</td>\n",
       "    </tr>\n",
       "    <tr>\n",
       "      <td>2</td>\n",
       "      <td>115.485323</td>\n",
       "      <td>-41.758210</td>\n",
       "      <td>-5.612493</td>\n",
       "      <td>-1.209011</td>\n",
       "      <td>1.869652</td>\n",
       "    </tr>\n",
       "    <tr>\n",
       "      <td>3</td>\n",
       "      <td>-98.331194</td>\n",
       "      <td>-0.319155</td>\n",
       "      <td>1.738880</td>\n",
       "      <td>1.769552</td>\n",
       "      <td>1.039292</td>\n",
       "    </tr>\n",
       "    <tr>\n",
       "      <td>4</td>\n",
       "      <td>150.022197</td>\n",
       "      <td>-5.607064</td>\n",
       "      <td>43.709380</td>\n",
       "      <td>-5.638716</td>\n",
       "      <td>-5.518087</td>\n",
       "    </tr>\n",
       "  </tbody>\n",
       "</table>\n",
       "</div>"
      ],
      "text/plain": [
       "         2014        2015       2016       2017       2018\n",
       "0  266.697130  114.243273  -0.042726 -18.683319  19.472695\n",
       "1 -104.587227    2.088871  -1.212675   1.176036   1.653968\n",
       "2  115.485323  -41.758210  -5.612493  -1.209011   1.869652\n",
       "3  -98.331194   -0.319155   1.738880   1.769552   1.039292\n",
       "4  150.022197   -5.607064  43.709380  -5.638716  -5.518087"
      ]
     },
     "execution_count": 74,
     "metadata": {},
     "output_type": "execute_result"
    }
   ],
   "source": [
    "pca2 = PCA()\n",
    "df2_pca2 = pd.DataFrame(pca2.fit_transform(df2[carac2]),columns=carac2)\n",
    "df2_pca2.head()"
   ]
  },
  {
   "cell_type": "code",
   "execution_count": 75,
   "metadata": {},
   "outputs": [
    {
     "data": {
      "text/plain": [
       "array([0.95715401, 0.02310753, 0.01225311, 0.00543751, 0.00204784])"
      ]
     },
     "execution_count": 75,
     "metadata": {},
     "output_type": "execute_result"
    }
   ],
   "source": [
    "explained_variance2 = pca2.explained_variance_ratio_\n",
    "explained_variance2"
   ]
  },
  {
   "cell_type": "markdown",
   "metadata": {},
   "source": [
    "El primer componente tiene una variacion de 95%, el segundo componente 2.3%, el tercer componente 1.2%, los demas componentes tienen una variacion menor al 1%. Con lo anterior podemos decir que la informacion es captada por el primer y segundo componente."
   ]
  },
  {
   "cell_type": "code",
   "execution_count": 77,
   "metadata": {},
   "outputs": [
    {
     "data": {
      "text/html": [
       "<div>\n",
       "<style scoped>\n",
       "    .dataframe tbody tr th:only-of-type {\n",
       "        vertical-align: middle;\n",
       "    }\n",
       "\n",
       "    .dataframe tbody tr th {\n",
       "        vertical-align: top;\n",
       "    }\n",
       "\n",
       "    .dataframe thead th {\n",
       "        text-align: right;\n",
       "    }\n",
       "</style>\n",
       "<table border=\"1\" class=\"dataframe\">\n",
       "  <thead>\n",
       "    <tr style=\"text-align: right;\">\n",
       "      <th></th>\n",
       "      <th>PC1</th>\n",
       "      <th>PC2</th>\n",
       "      <th>PC3</th>\n",
       "      <th>PC4</th>\n",
       "      <th>PC5</th>\n",
       "      <th>obj2</th>\n",
       "    </tr>\n",
       "  </thead>\n",
       "  <tbody>\n",
       "    <tr>\n",
       "      <td>0</td>\n",
       "      <td>266.697130</td>\n",
       "      <td>114.243273</td>\n",
       "      <td>-0.042726</td>\n",
       "      <td>-18.683319</td>\n",
       "      <td>19.472695</td>\n",
       "      <td>Depresión</td>\n",
       "    </tr>\n",
       "    <tr>\n",
       "      <td>1</td>\n",
       "      <td>-104.587227</td>\n",
       "      <td>2.088871</td>\n",
       "      <td>-1.212675</td>\n",
       "      <td>1.176036</td>\n",
       "      <td>1.653968</td>\n",
       "      <td>Anorexia y bulimia</td>\n",
       "    </tr>\n",
       "    <tr>\n",
       "      <td>2</td>\n",
       "      <td>115.485323</td>\n",
       "      <td>-41.758210</td>\n",
       "      <td>-5.612493</td>\n",
       "      <td>-1.209011</td>\n",
       "      <td>1.869652</td>\n",
       "      <td>Depresión</td>\n",
       "    </tr>\n",
       "    <tr>\n",
       "      <td>3</td>\n",
       "      <td>-98.331194</td>\n",
       "      <td>-0.319155</td>\n",
       "      <td>1.738880</td>\n",
       "      <td>1.769552</td>\n",
       "      <td>1.039292</td>\n",
       "      <td>Anorexia y bulimia</td>\n",
       "    </tr>\n",
       "    <tr>\n",
       "      <td>4</td>\n",
       "      <td>150.022197</td>\n",
       "      <td>-5.607064</td>\n",
       "      <td>43.709380</td>\n",
       "      <td>-5.638716</td>\n",
       "      <td>-5.518087</td>\n",
       "      <td>Depresión</td>\n",
       "    </tr>\n",
       "  </tbody>\n",
       "</table>\n",
       "</div>"
      ],
      "text/plain": [
       "          PC1         PC2        PC3        PC4        PC5                obj2\n",
       "0  266.697130  114.243273  -0.042726 -18.683319  19.472695           Depresión\n",
       "1 -104.587227    2.088871  -1.212675   1.176036   1.653968  Anorexia y bulimia\n",
       "2  115.485323  -41.758210  -5.612493  -1.209011   1.869652           Depresión\n",
       "3  -98.331194   -0.319155   1.738880   1.769552   1.039292  Anorexia y bulimia\n",
       "4  150.022197   -5.607064  43.709380  -5.638716  -5.518087           Depresión"
      ]
     },
     "execution_count": 77,
     "metadata": {},
     "output_type": "execute_result"
    }
   ],
   "source": [
    "df2_pca2['obj2'] = df2[obj2]\n",
    "df2_pca2.columns = ['PC1', 'PC2','PC3','PC4','PC5','obj2']\n",
    "df2_pca2.head()"
   ]
  },
  {
   "cell_type": "code",
   "execution_count": 78,
   "metadata": {},
   "outputs": [
    {
     "data": {
      "image/png": "[encoded data removed]",
      "text/plain": [
       "<Figure size 432x288 with 1 Axes>"
      ]
     },
     "metadata": {
      "needs_background": "light"
     },
     "output_type": "display_data"
    }
   ],
   "source": [
    "fig = plt.figure()\n",
    "ax = fig.add_subplot(1,1,1) \n",
    "ax.set_xlabel('Componente principal 1') \n",
    "ax.set_ylabel('Componente principal 2') \n",
    "ax.set_title('2 componententes PCA') \n",
    "objetivos2 = ['Depresión','Anorexia y bulimia']\n",
    "colores2 = ['b','c']\n",
    "\n",
    "for obj2, color in zip(objetivos2,colores2):\n",
    "    indicesToKeep = df2_pca2['obj2'] == obj2\n",
    "    ax.scatter(df2_pca2.loc[indicesToKeep, 'PC1']\n",
    "    , df2_pca2.loc[indicesToKeep, 'PC2']\n",
    "    , c = color\n",
    "    , s = 50)\n",
    "ax.legend(objetivos2)\n",
    "ax.grid()"
   ]
  },
  {
   "cell_type": "code",
   "execution_count": 79,
   "metadata": {},
   "outputs": [
    {
     "data": {
      "image/png": "[encoded data removed]",
      "text/plain": [
       "<Figure size 432x288 with 1 Axes>"
      ]
     },
     "metadata": {
      "needs_background": "light"
     },
     "output_type": "display_data"
    }
   ],
   "source": [
    "fig = plt.figure()\n",
    "ax = fig.add_subplot(1,1,1) \n",
    "ax.set_xlabel('Componente principal 1') \n",
    "ax.set_ylabel('Componente principal 3') \n",
    "ax.set_title('2 componententes PCA') \n",
    "objetivos2 = ['Depresión','Anorexia y bulimia']\n",
    "colores2 = ['b','c']\n",
    "\n",
    "for obj2, color in zip(objetivos2,colores2):\n",
    "    indicesToKeep = df2_pca2['obj2'] == obj2\n",
    "    ax.scatter(df2_pca2.loc[indicesToKeep, 'PC1']\n",
    "    , df2_pca2.loc[indicesToKeep, 'PC3']\n",
    "    , c = color\n",
    "    , s = 50)\n",
    "ax.legend(objetivos2)\n",
    "ax.grid()"
   ]
  },
  {
   "cell_type": "code",
   "execution_count": 80,
   "metadata": {},
   "outputs": [
    {
     "data": {
      "image/png": "[encoded data removed]",
      "text/plain": [
       "<Figure size 432x288 with 1 Axes>"
      ]
     },
     "metadata": {
      "needs_background": "light"
     },
     "output_type": "display_data"
    }
   ],
   "source": [
    "fig = plt.figure()\n",
    "ax = fig.add_subplot(1,1,1) \n",
    "ax.set_xlabel('Componente principal 2') \n",
    "ax.set_ylabel('Componente principal 3') \n",
    "ax.set_title('2 componententes PCA') \n",
    "objetivos2 = ['Depresión','Anorexia y bulimia']\n",
    "colores2 = ['b','c']\n",
    "\n",
    "for obj2, color in zip(objetivos2,colores2):\n",
    "    indicesToKeep = df2_pca2['obj2'] == obj2\n",
    "    ax.scatter(df2_pca2.loc[indicesToKeep, 'PC2']\n",
    "    , df2_pca2.loc[indicesToKeep, 'PC3']\n",
    "    , c = color\n",
    "    , s = 50)\n",
    "ax.legend(objetivos2)\n",
    "ax.grid()"
   ]
  }
 ],
 "metadata": {
  "kernelspec": {
   "display_name": "Python 3",
   "language": "python",
   "name": "python3"
  },
  "language_info": {
   "codemirror_mode": {
    "name": "ipython",
    "version": 3
   },
   "file_extension": ".py",
   "mimetype": "text/x-python",
   "name": "python",
   "nbconvert_exporter": "python",
   "pygments_lexer": "ipython3",
   "version": "3.7.4"
  }
 },
 "nbformat": 4,
 "nbformat_minor": 2
}
